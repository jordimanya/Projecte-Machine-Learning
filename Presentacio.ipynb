{
 "cells": [
  {
   "cell_type": "markdown",
   "id": "24653ec1-ef86-4633-b8dd-7db240eabbc9",
   "metadata": {},
   "source": [
    "# Jordi Manyà i Martínez\n",
    "\n",
    "[![selfie.png](https://i.postimg.cc/vBfhrJb0/selfie.png)](https://postimg.cc/r0y5cYd4)\n",
    "\n",
    "## 👤 Qui sóc\n",
    "\n",
    "Em dic **Jordi Manyà i Martínez** i sóc un professional amb múltiples facetes: **advocat**, **doctor en dret**, **enginyer** i **professor de dret** a la *Universitat de Barcelona (UB)*. Amb una àmplia experiència i una carrera plena de reptes, em defineixo per l'interès continuat en l'aprenentatge i l'exploració de noves fronteres, tant en el món acadèmic com tecnològic.\n",
    "\n",
    "Nascut a **Sabadell** i amb **59 anys**, la meva trajectòria professional reflecteix una combinació única de disciplines que m'ha permès adaptar-me a les tendències emergents en el camp del dret i la tecnologia.\n",
    "\n",
    "---\n",
    "\n",
    "## 🎓 **Formació i interessos actuals**\n",
    "\n",
    "Estic actualment immers en un curs de **Machine Learning** amb un focus en la **Intel·ligència Artificial (IA)**. Aquesta disciplina no només representa una evolució tecnològica, sinó una revolució que afectarà àrees clau del dret, com:\n",
    "\n",
    "- 📜 **Contractació intel·ligent** (Smart Contracts)\n",
    "- ⚖️ **Automatització de processos judicials**\n",
    "- 🔍 **Anàlisi predictiu de litigis**\n",
    "  \n",
    "L'objectiu del meu aprenentatge és comprendre aquestes tecnologies i explorar les seves **implicacions legals** i **ètic-socials**.\n",
    "\n",
    "---\n",
    "\n",
    "## 🏛️ **La meva trajectòria**\n",
    "\n",
    "### 🔧 **Experiència professional**\n",
    "\n",
    "- **Advocat**: Especialitzat en dret tecnològic i digital.\n",
    "- **Enginyer**: Formació tècnica que complementa el meu enfocament en noves tecnologies.\n",
    "- **Professor a la UB**: On puc transmetre als meus alumnes la importància de la innovació en el món legal.\n",
    "\n",
    "Amb aquesta combinació de formacions, he pogut oferir solucions innovadores en àrees com:\n",
    "\n",
    "- 🛡️ **Privacitat i seguretat de la informació**\n",
    "- 🖥️ **Dret digital i tecnologies emergents**\n",
    "  \n",
    "### 🌍 **Aficions i passions**\n",
    "\n",
    "#### Viatjar\n",
    "Una de les meves grans passions és **descobrir el món**. Després d'acabar la meva primera carrera, vaig decidir donar la volta al món durant **27 mesos**. Aquest viatge va ser una experiència transformadora que em va oferir:\n",
    "\n",
    "1. Perspectives noves sobre **cultures diverses**\n",
    "2. Una visió global del món **jurídic internacional**\n",
    "3. Un enfocament holístic cap al dret i la **interculturalitat**\n",
    "\n",
    "---\n",
    "\n",
    "## 🛠️ **Objectius i futur**\n",
    "\n",
    "En els pròxims anys, vull centrar els meus esforços en la integració entre el **dret** i les **noves tecnologies**, especialment en l'àmbit de la **intel·ligència artificial**. El meu objectiu és contribuir a l'elaboració de normatives que garanteixin un ús ètic i segur de la IA, i que permetin que aquesta tecnologia es desenvolupi de manera harmoniosa amb els drets i llibertats de les persones.\n",
    "\n",
    "---\n",
    "\n",
    "> “La **intel·ligència artificial** no és el futur, és el present. El dret ha d'adaptar-se per protegir els nostres drets en aquest nou paradigma digital.”\n"
   ]
  }
 ],
 "metadata": {
  "kernelspec": {
   "display_name": "Python 3 (ipykernel)",
   "language": "python",
   "name": "python3"
  },
  "language_info": {
   "codemirror_mode": {
    "name": "ipython",
    "version": 3
   },
   "file_extension": ".py",
   "mimetype": "text/x-python",
   "name": "python",
   "nbconvert_exporter": "python",
   "pygments_lexer": "ipython3",
   "version": "3.12.4"
  }
 },
 "nbformat": 4,
 "nbformat_minor": 5
}
